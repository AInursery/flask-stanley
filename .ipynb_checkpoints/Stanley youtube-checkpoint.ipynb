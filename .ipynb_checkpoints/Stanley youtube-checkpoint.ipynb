{
 "metadata": {
  "name": "",
  "signature": "sha256:a4970427f50c0bdb6c859562016dccd41cf974c34555a1be731d8394c813339f"
 },
 "nbformat": 3,
 "nbformat_minor": 0,
 "worksheets": [
  {
   "cells": [
    {
     "cell_type": "code",
     "collapsed": false,
     "input": [
      "text = \" Young princess waiting for her prince in a dragon dungeon with big cats \""
     ],
     "language": "python",
     "metadata": {},
     "outputs": [],
     "prompt_number": 1
    },
    {
     "cell_type": "code",
     "collapsed": false,
     "input": [
      "from textblob import TextBlob"
     ],
     "language": "python",
     "metadata": {},
     "outputs": [],
     "prompt_number": 2
    },
    {
     "cell_type": "code",
     "collapsed": false,
     "input": [
      "blob = TextBlob(text)"
     ],
     "language": "python",
     "metadata": {},
     "outputs": [],
     "prompt_number": 3
    },
    {
     "cell_type": "code",
     "collapsed": false,
     "input": [
      "blob.tags"
     ],
     "language": "python",
     "metadata": {},
     "outputs": [
      {
       "metadata": {},
       "output_type": "pyout",
       "prompt_number": 4,
       "text": [
        "[(u'Young', u'NNP'),\n",
        " (u'princess', u'NN'),\n",
        " (u'waiting', u'VBG'),\n",
        " (u'for', u'IN'),\n",
        " (u'her', u'PRP$'),\n",
        " (u'prince', u'NN'),\n",
        " (u'in', u'IN'),\n",
        " (u'a', u'DT'),\n",
        " (u'dragon', u'NN'),\n",
        " (u'dungeon', u'NN'),\n",
        " (u'with', u'IN'),\n",
        " (u'big', u'JJ'),\n",
        " (u'cats', u'NNS')]"
       ]
      }
     ],
     "prompt_number": 4
    },
    {
     "cell_type": "code",
     "collapsed": false,
     "input": [
      "blob.noun_phrases "
     ],
     "language": "python",
     "metadata": {},
     "outputs": [
      {
       "metadata": {},
       "output_type": "pyout",
       "prompt_number": 5,
       "text": [
        "WordList([u'young princess', u'dragon dungeon', u'big cats'])"
       ]
      }
     ],
     "prompt_number": 5
    },
    {
     "cell_type": "code",
     "collapsed": false,
     "input": [
      "### Search youtube for these ..... and create a playlist"
     ],
     "language": "python",
     "metadata": {},
     "outputs": [],
     "prompt_number": 6
    },
    {
     "cell_type": "code",
     "collapsed": false,
     "input": [
      "def search_by_keyword():\n",
      "youtube = build(\n",
      "  YOUTUBE_API_SERVICE_NAME, \n",
      "  YOUTUBE_API_VERSION, \n",
      "  developerKey=API_KEY\n",
      ")\n",
      "search_response = youtube.search().list(\n",
      "  q=QUERY_TERM,\n",
      "  part=\"id,snippet\",\n",
      "  maxResults=25\n",
      ").execute()\n",
      "\n",
      "videos = []\n",
      "\n",
      "for search_result in search_response.get(\"items\", []):\n",
      "if search_result[\"id\"][\"kind\"] == \"youtube#video\":\n",
      "        videos.append(\"%s (%s)\" % (search_result[\"snippet\"][\"title\"],\n",
      "                                   search_result[\"id\"][\"videoId\"]))\n",
      "return videos"
     ],
     "language": "python",
     "metadata": {},
     "outputs": []
    }
   ],
   "metadata": {}
  }
 ]
}